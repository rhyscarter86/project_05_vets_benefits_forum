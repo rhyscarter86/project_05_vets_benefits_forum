{
 "cells": [
  {
   "cell_type": "markdown",
   "metadata": {},
   "source": [
    "# Identifying Similar Posts"
   ]
  },
  {
   "cell_type": "markdown",
   "metadata": {},
   "source": [
    "This workbook captures cosine-distance based similarity analysis conducted on the captured posts. It includes a 'recommender' system to identify most-similar texts."
   ]
  },
  {
   "cell_type": "code",
   "execution_count": 3,
   "metadata": {},
   "outputs": [],
   "source": [
    "import pickle"
   ]
  },
  {
   "cell_type": "code",
   "execution_count": 4,
   "metadata": {},
   "outputs": [],
   "source": [
    "import re"
   ]
  },
  {
   "cell_type": "code",
   "execution_count": 5,
   "metadata": {},
   "outputs": [],
   "source": [
    "import string"
   ]
  },
  {
   "cell_type": "code",
   "execution_count": 6,
   "metadata": {},
   "outputs": [],
   "source": [
    "import plotly.express as px"
   ]
  },
  {
   "cell_type": "code",
   "execution_count": 7,
   "metadata": {},
   "outputs": [],
   "source": [
    "# Import other packages for examples\n",
    "import pandas as pd\n",
    "import numpy as np\n",
    "import scipy.sparse as ss\n",
    "\n",
    "from sklearn.feature_extraction.text import CountVectorizer\n",
    "from sklearn import datasets\n",
    "\n",
    "from corextopic import corextopic as ct\n",
    "from corextopic import vis_topic as vt\n",
    "\n",
    "import matplotlib.pyplot as plt\n",
    "import seaborn as sns\n",
    "%matplotlib inline"
   ]
  },
  {
   "cell_type": "code",
   "execution_count": 8,
   "metadata": {},
   "outputs": [],
   "source": [
    "from sklearn.metrics import pairwise_distances"
   ]
  },
  {
   "cell_type": "code",
   "execution_count": 9,
   "metadata": {},
   "outputs": [
    {
     "data": {
      "text/html": [
       "<style>.container { width:95% !important; }</style>"
      ],
      "text/plain": [
       "<IPython.core.display.HTML object>"
      ]
     },
     "metadata": {},
     "output_type": "display_data"
    }
   ],
   "source": [
    "# Make better use of Jupyter Notebook cell width\n",
    "from IPython.core.display import display, HTML\n",
    "display(HTML(\"<style>.container { width:95% !important; }</style>\"))\n",
    "\n",
    "pd.set_option('display.max_rows', 660)\n",
    "pd.set_option('display.max_columns', 500)\n",
    "pd.set_option('display.max_colwidth', None)\n",
    "pd.options.display.float_format = '{:,.10f}'.format"
   ]
  },
  {
   "cell_type": "code",
   "execution_count": 10,
   "metadata": {},
   "outputs": [],
   "source": [
    "import pandas as pd\n",
    "from sklearn.feature_extraction.text import CountVectorizer \n",
    "from sklearn.decomposition import NMF\n",
    "from sklearn.metrics import pairwise_distances"
   ]
  },
  {
   "cell_type": "markdown",
   "metadata": {
    "slideshow": {
     "slide_type": "subslide"
    }
   },
   "source": [
    "## Load the data"
   ]
  },
  {
   "cell_type": "code",
   "execution_count": 2,
   "metadata": {},
   "outputs": [
    {
     "data": {
      "text/plain": [
       "(7824, 50)"
      ]
     },
     "execution_count": 2,
     "metadata": {},
     "output_type": "execute_result"
    }
   ],
   "source": [
    "df_zipped_post3 = pickle.load(open(\"/Users/arcarter/Git_Repos/project_05/df_zipped_post3.p\", \"rb\"))\n",
    "\n",
    "df_zipped_post3.shape"
   ]
  },
  {
   "cell_type": "markdown",
   "metadata": {},
   "source": [
    "## Vectorize"
   ]
  },
  {
   "cell_type": "code",
   "execution_count": 11,
   "metadata": {},
   "outputs": [],
   "source": [
    "from sklearn.feature_extraction import text "
   ]
  },
  {
   "cell_type": "code",
   "execution_count": 12,
   "metadata": {},
   "outputs": [],
   "source": [
    "additional_stop_words = ['rt','vets','vet','veteran','veterans']\n",
    "additional_stop_words2 = ['rt','vets','vet','veteran','veterans','Veterans_Benefits_Admin','veterans_benefits_admin', 'veterans_health_admin',\n",
    "                          'Veterans_Health_Admin','department_of_va','veteransbenefitsadmin departmentofva', \n",
    "                          'veteransbenefitsadmin departmentofva veterans_health_adminadminadminadminadmin', \n",
    "                          'departmentofva veterans_health_adminadminadminadminadmin', 'veteransbenefitsadmin', \n",
    "                          'veterans_health_adminadminadminadminadmin', 'departmentofva','va','cnn', 'foxnews','msnbc','nbc','abc','fox', 'tapatalk',\n",
    "                          'cruiser','year','ago','old','just','know','said','dont','don','t','did','like','think','told', 'sent', 'using', 'wrote', 'pm', 'feb', 'good_morning_evening']\n",
    "\n",
    "stop_wordz = text.ENGLISH_STOP_WORDS.union(additional_stop_words)\n",
    "stop_wordz2 = text.ENGLISH_STOP_WORDS.union(additional_stop_words2)"
   ]
  },
  {
   "cell_type": "code",
   "execution_count": 15,
   "metadata": {
    "ExecuteTime": {
     "end_time": "2019-05-21T18:52:15.823310Z",
     "start_time": "2019-05-21T18:52:15.310856Z"
    }
   },
   "outputs": [],
   "source": [
    "vectorizer = CountVectorizer(#max_features=20000,\n",
    "                             stop_words=stop_wordz2, #token_pattern=\"\\\\b[a-z][a-z]+\\\\b\",\n",
    "                             binary=False)"
   ]
  },
  {
   "cell_type": "code",
   "execution_count": 16,
   "metadata": {},
   "outputs": [],
   "source": [
    "doc_word = vectorizer.fit_transform(df_zipped_post3.post_text)\n",
    "words = list(np.asarray(vectorizer.get_feature_names()))"
   ]
  },
  {
   "cell_type": "markdown",
   "metadata": {},
   "source": [
    "## Topic Modeling with NMF"
   ]
  },
  {
   "cell_type": "code",
   "execution_count": 17,
   "metadata": {},
   "outputs": [
    {
     "data": {
      "text/plain": [
       "(7824, 10)"
      ]
     },
     "execution_count": 17,
     "metadata": {},
     "output_type": "execute_result"
    }
   ],
   "source": [
    "nmf_model = NMF(10)\n",
    "doc_topic = nmf_model.fit_transform(doc_word)\n",
    "doc_topic.shape"
   ]
  },
  {
   "cell_type": "code",
   "execution_count": 18,
   "metadata": {},
   "outputs": [
    {
     "data": {
      "text/plain": [
       "(10, 17977)"
      ]
     },
     "execution_count": 18,
     "metadata": {},
     "output_type": "execute_result"
    }
   ],
   "source": [
    "topic_word = nmf_model.components_\n",
    "topic_word.shape"
   ]
  },
  {
   "cell_type": "code",
   "execution_count": 19,
   "metadata": {},
   "outputs": [
    {
     "data": {
      "text/plain": [
       "[['time', 'years', 'im', 'got', 'days', 'good'],\n",
       " ['right', 'disability', 'service_connected', 'static', 'pain', 'extremity'],\n",
       " ['appeal', 'board_veterans_appeals', 'decision', 'appeals', 'remand', 'case'],\n",
       " ['claim', 'file', 'claims', 'letter', 'filed', 'denied'],\n",
       " ['evidence', 'service', 'cue', 'diagnosis', 'denied', 'current'],\n",
       " ['decision', 'board', 'court', 'vetapp', 'appeal', 'smc'],\n",
       " ['use', 'nsaid', 'ckd', 'service', 'opinion', 'nsaids'],\n",
       " ['evaluation', 'percent', 'assigned', 'effective', 'cfr', 'impairment'],\n",
       " ['rating', 'disability', 'vso', 'rule', 'condition', 'based'],\n",
       " ['iu', 'exam', 'dbq', 'rater', 'examiner', 'based']]"
      ]
     },
     "execution_count": 19,
     "metadata": {},
     "output_type": "execute_result"
    }
   ],
   "source": [
    "words = vectorizer.get_feature_names()\n",
    "t = nmf_model.components_.argsort(axis=1)[:,-1:-7:-1]\n",
    "topic_words = [[words[e] for e in l] for l in t]\n",
    "topic_words"
   ]
  },
  {
   "cell_type": "code",
   "execution_count": 20,
   "metadata": {},
   "outputs": [
    {
     "data": {
      "text/html": [
       "<div>\n",
       "<style scoped>\n",
       "    .dataframe tbody tr th:only-of-type {\n",
       "        vertical-align: middle;\n",
       "    }\n",
       "\n",
       "    .dataframe tbody tr th {\n",
       "        vertical-align: top;\n",
       "    }\n",
       "\n",
       "    .dataframe thead th {\n",
       "        text-align: right;\n",
       "    }\n",
       "</style>\n",
       "<table border=\"1\" class=\"dataframe\">\n",
       "  <thead>\n",
       "    <tr style=\"text-align: right;\">\n",
       "      <th></th>\n",
       "      <th>component_1</th>\n",
       "      <th>component_2</th>\n",
       "      <th>component_3</th>\n",
       "      <th>component_4</th>\n",
       "      <th>component_5</th>\n",
       "      <th>component_6</th>\n",
       "      <th>component_7</th>\n",
       "      <th>component_8</th>\n",
       "      <th>component_9</th>\n",
       "      <th>component_10</th>\n",
       "    </tr>\n",
       "  </thead>\n",
       "  <tbody>\n",
       "    <tr>\n",
       "      <th>0</th>\n",
       "      <td>0.0000000000</td>\n",
       "      <td>0.0000000000</td>\n",
       "      <td>0.0029200000</td>\n",
       "      <td>0.0000000000</td>\n",
       "      <td>0.0297400000</td>\n",
       "      <td>0.0000000000</td>\n",
       "      <td>0.0000000000</td>\n",
       "      <td>0.0000000000</td>\n",
       "      <td>0.0000000000</td>\n",
       "      <td>0.0000000000</td>\n",
       "    </tr>\n",
       "    <tr>\n",
       "      <th>1</th>\n",
       "      <td>0.0000000000</td>\n",
       "      <td>0.0000000000</td>\n",
       "      <td>0.0675900000</td>\n",
       "      <td>0.1228300000</td>\n",
       "      <td>0.0000000000</td>\n",
       "      <td>0.0051500000</td>\n",
       "      <td>0.0000000000</td>\n",
       "      <td>0.0085500000</td>\n",
       "      <td>0.0005800000</td>\n",
       "      <td>0.0000000000</td>\n",
       "    </tr>\n",
       "    <tr>\n",
       "      <th>2</th>\n",
       "      <td>0.0000000000</td>\n",
       "      <td>0.0000000000</td>\n",
       "      <td>0.3257600000</td>\n",
       "      <td>0.0944700000</td>\n",
       "      <td>0.0018400000</td>\n",
       "      <td>0.0054400000</td>\n",
       "      <td>0.0000000000</td>\n",
       "      <td>0.0293500000</td>\n",
       "      <td>0.0000000000</td>\n",
       "      <td>0.0000000000</td>\n",
       "    </tr>\n",
       "    <tr>\n",
       "      <th>3</th>\n",
       "      <td>0.0120500000</td>\n",
       "      <td>0.0670000000</td>\n",
       "      <td>0.0861000000</td>\n",
       "      <td>0.0000000000</td>\n",
       "      <td>0.2081700000</td>\n",
       "      <td>0.1666800000</td>\n",
       "      <td>0.0000000000</td>\n",
       "      <td>0.0000000000</td>\n",
       "      <td>0.0000000000</td>\n",
       "      <td>0.0198500000</td>\n",
       "    </tr>\n",
       "    <tr>\n",
       "      <th>4</th>\n",
       "      <td>0.0000000000</td>\n",
       "      <td>0.0000000000</td>\n",
       "      <td>0.0005400000</td>\n",
       "      <td>0.0014300000</td>\n",
       "      <td>0.0650600000</td>\n",
       "      <td>0.0001500000</td>\n",
       "      <td>0.0307300000</td>\n",
       "      <td>0.0000000000</td>\n",
       "      <td>0.0000000000</td>\n",
       "      <td>0.0000000000</td>\n",
       "    </tr>\n",
       "    <tr>\n",
       "      <th>...</th>\n",
       "      <td>...</td>\n",
       "      <td>...</td>\n",
       "      <td>...</td>\n",
       "      <td>...</td>\n",
       "      <td>...</td>\n",
       "      <td>...</td>\n",
       "      <td>...</td>\n",
       "      <td>...</td>\n",
       "      <td>...</td>\n",
       "      <td>...</td>\n",
       "    </tr>\n",
       "    <tr>\n",
       "      <th>7819</th>\n",
       "      <td>0.0533800000</td>\n",
       "      <td>0.0000000000</td>\n",
       "      <td>0.0373400000</td>\n",
       "      <td>0.0354000000</td>\n",
       "      <td>0.0295900000</td>\n",
       "      <td>0.0000000000</td>\n",
       "      <td>0.0006000000</td>\n",
       "      <td>0.1513600000</td>\n",
       "      <td>0.0225600000</td>\n",
       "      <td>0.0263400000</td>\n",
       "    </tr>\n",
       "    <tr>\n",
       "      <th>7820</th>\n",
       "      <td>0.0015300000</td>\n",
       "      <td>0.0000000000</td>\n",
       "      <td>0.0000000000</td>\n",
       "      <td>0.0000000000</td>\n",
       "      <td>0.0000000000</td>\n",
       "      <td>0.0000000000</td>\n",
       "      <td>0.0000000000</td>\n",
       "      <td>0.0000000000</td>\n",
       "      <td>0.0002000000</td>\n",
       "      <td>0.0000000000</td>\n",
       "    </tr>\n",
       "    <tr>\n",
       "      <th>7821</th>\n",
       "      <td>0.1360500000</td>\n",
       "      <td>0.0196800000</td>\n",
       "      <td>0.0360600000</td>\n",
       "      <td>0.0228500000</td>\n",
       "      <td>0.0776100000</td>\n",
       "      <td>0.0000000000</td>\n",
       "      <td>0.0238000000</td>\n",
       "      <td>0.0353200000</td>\n",
       "      <td>0.1524300000</td>\n",
       "      <td>0.0239400000</td>\n",
       "    </tr>\n",
       "    <tr>\n",
       "      <th>7822</th>\n",
       "      <td>0.0275900000</td>\n",
       "      <td>0.0000000000</td>\n",
       "      <td>0.0033200000</td>\n",
       "      <td>0.0105800000</td>\n",
       "      <td>0.0000000000</td>\n",
       "      <td>0.0000000000</td>\n",
       "      <td>0.0013000000</td>\n",
       "      <td>0.0000000000</td>\n",
       "      <td>0.0000000000</td>\n",
       "      <td>0.0201800000</td>\n",
       "    </tr>\n",
       "    <tr>\n",
       "      <th>7823</th>\n",
       "      <td>0.0651800000</td>\n",
       "      <td>0.0000000000</td>\n",
       "      <td>0.0377700000</td>\n",
       "      <td>0.0048200000</td>\n",
       "      <td>0.0000000000</td>\n",
       "      <td>0.0000000000</td>\n",
       "      <td>0.0000000000</td>\n",
       "      <td>0.0000000000</td>\n",
       "      <td>0.0000000000</td>\n",
       "      <td>0.0072300000</td>\n",
       "    </tr>\n",
       "  </tbody>\n",
       "</table>\n",
       "<p>7824 rows × 10 columns</p>\n",
       "</div>"
      ],
      "text/plain": [
       "      component_1  component_2  component_3  component_4  component_5  \\\n",
       "0    0.0000000000 0.0000000000 0.0029200000 0.0000000000 0.0297400000   \n",
       "1    0.0000000000 0.0000000000 0.0675900000 0.1228300000 0.0000000000   \n",
       "2    0.0000000000 0.0000000000 0.3257600000 0.0944700000 0.0018400000   \n",
       "3    0.0120500000 0.0670000000 0.0861000000 0.0000000000 0.2081700000   \n",
       "4    0.0000000000 0.0000000000 0.0005400000 0.0014300000 0.0650600000   \n",
       "...           ...          ...          ...          ...          ...   \n",
       "7819 0.0533800000 0.0000000000 0.0373400000 0.0354000000 0.0295900000   \n",
       "7820 0.0015300000 0.0000000000 0.0000000000 0.0000000000 0.0000000000   \n",
       "7821 0.1360500000 0.0196800000 0.0360600000 0.0228500000 0.0776100000   \n",
       "7822 0.0275900000 0.0000000000 0.0033200000 0.0105800000 0.0000000000   \n",
       "7823 0.0651800000 0.0000000000 0.0377700000 0.0048200000 0.0000000000   \n",
       "\n",
       "      component_6  component_7  component_8  component_9  component_10  \n",
       "0    0.0000000000 0.0000000000 0.0000000000 0.0000000000  0.0000000000  \n",
       "1    0.0051500000 0.0000000000 0.0085500000 0.0005800000  0.0000000000  \n",
       "2    0.0054400000 0.0000000000 0.0293500000 0.0000000000  0.0000000000  \n",
       "3    0.1666800000 0.0000000000 0.0000000000 0.0000000000  0.0198500000  \n",
       "4    0.0001500000 0.0307300000 0.0000000000 0.0000000000  0.0000000000  \n",
       "...           ...          ...          ...          ...           ...  \n",
       "7819 0.0000000000 0.0006000000 0.1513600000 0.0225600000  0.0263400000  \n",
       "7820 0.0000000000 0.0000000000 0.0000000000 0.0002000000  0.0000000000  \n",
       "7821 0.0000000000 0.0238000000 0.0353200000 0.1524300000  0.0239400000  \n",
       "7822 0.0000000000 0.0013000000 0.0000000000 0.0000000000  0.0201800000  \n",
       "7823 0.0000000000 0.0000000000 0.0000000000 0.0000000000  0.0072300000  \n",
       "\n",
       "[7824 rows x 10 columns]"
      ]
     },
     "execution_count": 20,
     "metadata": {},
     "output_type": "execute_result"
    }
   ],
   "source": [
    "doc_topic_nmf = pd.DataFrame(doc_topic.round(5),\n",
    "                             #index = ex_label,\n",
    "                             columns = [\"component_1\",\"component_2\",\"component_3\", \n",
    "                                        \"component_4\",\"component_5\",\"component_6\",\n",
    "                                        \"component_7\",\"component_8\",\"component_9\",\n",
    "                                        \"component_10\"])\n",
    "\n",
    "doc_topic_nmf"
   ]
  },
  {
   "cell_type": "markdown",
   "metadata": {},
   "source": [
    "## Calculate Distance & Identify Similar Posts"
   ]
  },
  {
   "cell_type": "code",
   "execution_count": 21,
   "metadata": {
    "scrolled": true
   },
   "outputs": [
    {
     "data": {
      "text/plain": [
       "array([[0.09959362, 0.97895237, 0.98244169, ..., 0.64582417, 0.97797935,\n",
       "        0.99502321]])"
      ]
     },
     "execution_count": 21,
     "metadata": {},
     "output_type": "execute_result"
    }
   ],
   "source": [
    "pairwise_distances(doc_topic[4].reshape(1,-1),doc_topic,metric='cosine')"
   ]
  },
  {
   "cell_type": "code",
   "execution_count": 22,
   "metadata": {},
   "outputs": [
    {
     "data": {
      "text/plain": [
       "array([[0.09959362, 0.97895237, 0.98244169, ..., 0.64582417, 0.97797935,\n",
       "        0.99502321]])"
      ]
     },
     "execution_count": 22,
     "metadata": {},
     "output_type": "execute_result"
    }
   ],
   "source": [
    "pairwise_distances(doc_topic[4].reshape(1,-1),doc_topic,metric='cosine')"
   ]
  },
  {
   "cell_type": "code",
   "execution_count": 23,
   "metadata": {},
   "outputs": [],
   "source": [
    "distance_measure = pairwise_distances(doc_topic[4].reshape(1,-1),doc_topic,metric='cosine').argsort()"
   ]
  },
  {
   "cell_type": "code",
   "execution_count": 24,
   "metadata": {},
   "outputs": [],
   "source": [
    "post_ids = list(distance_measure[0][0:5])"
   ]
  },
  {
   "cell_type": "code",
   "execution_count": 34,
   "metadata": {},
   "outputs": [],
   "source": [
    "similar_posts_list = df_zipped_post3.loc[post_ids]"
   ]
  },
  {
   "cell_type": "code",
   "execution_count": 38,
   "metadata": {},
   "outputs": [
    {
     "data": {
      "text/html": [
       "<div>\n",
       "<style scoped>\n",
       "    .dataframe tbody tr th:only-of-type {\n",
       "        vertical-align: middle;\n",
       "    }\n",
       "\n",
       "    .dataframe tbody tr th {\n",
       "        vertical-align: top;\n",
       "    }\n",
       "\n",
       "    .dataframe thead th {\n",
       "        text-align: right;\n",
       "    }\n",
       "</style>\n",
       "<table border=\"1\" class=\"dataframe\">\n",
       "  <thead>\n",
       "    <tr style=\"text-align: right;\">\n",
       "      <th></th>\n",
       "      <th>post_id_container</th>\n",
       "      <th>post_text</th>\n",
       "      <th>post_time</th>\n",
       "      <th>post_author</th>\n",
       "      <th>original_post_id_container</th>\n",
       "      <th>topic_title</th>\n",
       "      <th>post_hour_min</th>\n",
       "      <th>post_date</th>\n",
       "      <th>dow</th>\n",
       "      <th>week</th>\n",
       "      <th>week_alt</th>\n",
       "      <th>month</th>\n",
       "      <th>year2</th>\n",
       "      <th>Topic_Count</th>\n",
       "      <th>Topic_Name_or_Other</th>\n",
       "      <th>combined_time</th>\n",
       "      <th>post_text_original</th>\n",
       "      <th>service_connected</th>\n",
       "      <th>cp_exam</th>\n",
       "      <th>effective_date</th>\n",
       "      <th>service_connection</th>\n",
       "      <th>medical_record</th>\n",
       "      <th>coronaviruspandemic_vaccine</th>\n",
       "      <th>mental_health</th>\n",
       "      <th>good_luck</th>\n",
       "      <th>active_duty</th>\n",
       "      <th>sleep_apnea</th>\n",
       "      <th>rating_decision</th>\n",
       "      <th>hearing_loss</th>\n",
       "      <th>decision_letter</th>\n",
       "      <th>aid_attendance</th>\n",
       "      <th>medical_evidence</th>\n",
       "      <th>supplemental_claim</th>\n",
       "      <th>new_claim</th>\n",
       "      <th>caregiver_program</th>\n",
       "      <th>file_claim</th>\n",
       "      <th>gon_na</th>\n",
       "      <th>Covid_Docs</th>\n",
       "      <th>Disability_and_Appeals_Docs</th>\n",
       "      <th>Mental_Health_Docs</th>\n",
       "      <th>Aid_and_Attendance_Docs</th>\n",
       "      <th>Sleep_Docs</th>\n",
       "      <th>City_Docs</th>\n",
       "      <th>Waiting_Docs</th>\n",
       "      <th>College_Kids_Docs</th>\n",
       "      <th>Cold_Weather_Docs</th>\n",
       "      <th>Cancer_and_Disease_Docs</th>\n",
       "      <th>top_topic</th>\n",
       "      <th>Top Topic</th>\n",
       "      <th>Top Topic - Covid</th>\n",
       "    </tr>\n",
       "  </thead>\n",
       "  <tbody>\n",
       "    <tr>\n",
       "      <th>4</th>\n",
       "      <td>post_content1418699</td>\n",
       "      <td>did he review your military medical_records and post service medical_records</td>\n",
       "      <td>7:43 PM - Sep 04, 2019</td>\n",
       "      <td>[\"POST_AUTHOR\", \"EKco22\"]</td>\n",
       "      <td>post_content1511221</td>\n",
       "      <td>Legacy Appeals; Actual number of days from Appeal Certification</td>\n",
       "      <td>19:43:00</td>\n",
       "      <td>2019-09-04</td>\n",
       "      <td>2</td>\n",
       "      <td>2019-09-02/2019-09-08</td>\n",
       "      <td>2019-w36</td>\n",
       "      <td>2019-09</td>\n",
       "      <td>2019</td>\n",
       "      <td>306</td>\n",
       "      <td>Legacy Appeals; Actual number of days from Appeal Certification</td>\n",
       "      <td>2019-09-04 19:43:00</td>\n",
       "      <td>Did he review your military medical records and post service medical records?</td>\n",
       "      <td>0</td>\n",
       "      <td>0</td>\n",
       "      <td>0</td>\n",
       "      <td>0</td>\n",
       "      <td>1</td>\n",
       "      <td>0</td>\n",
       "      <td>0</td>\n",
       "      <td>0</td>\n",
       "      <td>0</td>\n",
       "      <td>0</td>\n",
       "      <td>0</td>\n",
       "      <td>0</td>\n",
       "      <td>0</td>\n",
       "      <td>0</td>\n",
       "      <td>0</td>\n",
       "      <td>0</td>\n",
       "      <td>0</td>\n",
       "      <td>0</td>\n",
       "      <td>0</td>\n",
       "      <td>0</td>\n",
       "      <td>0.0000010000</td>\n",
       "      <td>0.0000958201</td>\n",
       "      <td>0.0000365771</td>\n",
       "      <td>0.0000108224</td>\n",
       "      <td>0.0000010000</td>\n",
       "      <td>0.0009353297</td>\n",
       "      <td>0.0005996073</td>\n",
       "      <td>0.0006265097</td>\n",
       "      <td>0.0005726270</td>\n",
       "      <td>0.0009576043</td>\n",
       "      <td>9</td>\n",
       "      <td>Cancer and Disease</td>\n",
       "      <td>Other</td>\n",
       "    </tr>\n",
       "  </tbody>\n",
       "</table>\n",
       "</div>"
      ],
      "text/plain": [
       "     post_id_container  \\\n",
       "4  post_content1418699   \n",
       "\n",
       "                                                                      post_text  \\\n",
       "4  did he review your military medical_records and post service medical_records   \n",
       "\n",
       "                post_time                post_author  \\\n",
       "4  7:43 PM - Sep 04, 2019  [\"POST_AUTHOR\", \"EKco22\"]   \n",
       "\n",
       "  original_post_id_container  \\\n",
       "4        post_content1511221   \n",
       "\n",
       "                                                       topic_title  \\\n",
       "4  Legacy Appeals; Actual number of days from Appeal Certification   \n",
       "\n",
       "  post_hour_min  post_date  dow                   week  week_alt    month  \\\n",
       "4      19:43:00 2019-09-04    2  2019-09-02/2019-09-08  2019-w36  2019-09   \n",
       "\n",
       "  year2  Topic_Count  \\\n",
       "4  2019          306   \n",
       "\n",
       "                                               Topic_Name_or_Other  \\\n",
       "4  Legacy Appeals; Actual number of days from Appeal Certification   \n",
       "\n",
       "        combined_time  \\\n",
       "4 2019-09-04 19:43:00   \n",
       "\n",
       "                                                              post_text_original  \\\n",
       "4  Did he review your military medical records and post service medical records?   \n",
       "\n",
       "   service_connected  cp_exam  effective_date  service_connection  \\\n",
       "4                  0        0               0                   0   \n",
       "\n",
       "   medical_record  coronaviruspandemic_vaccine  mental_health  good_luck  \\\n",
       "4               1                            0              0          0   \n",
       "\n",
       "   active_duty  sleep_apnea  rating_decision  hearing_loss  decision_letter  \\\n",
       "4            0            0                0             0                0   \n",
       "\n",
       "   aid_attendance  medical_evidence  supplemental_claim  new_claim  \\\n",
       "4               0                 0                   0          0   \n",
       "\n",
       "   caregiver_program  file_claim  gon_na   Covid_Docs  \\\n",
       "4                  0           0       0 0.0000010000   \n",
       "\n",
       "   Disability_and_Appeals_Docs  Mental_Health_Docs  Aid_and_Attendance_Docs  \\\n",
       "4                 0.0000958201        0.0000365771             0.0000108224   \n",
       "\n",
       "    Sleep_Docs    City_Docs  Waiting_Docs  College_Kids_Docs  \\\n",
       "4 0.0000010000 0.0009353297  0.0005996073       0.0006265097   \n",
       "\n",
       "   Cold_Weather_Docs  Cancer_and_Disease_Docs  top_topic           Top Topic  \\\n",
       "4       0.0005726270             0.0009576043          9  Cancer and Disease   \n",
       "\n",
       "  Top Topic - Covid  \n",
       "4             Other  "
      ]
     },
     "execution_count": 38,
     "metadata": {},
     "output_type": "execute_result"
    }
   ],
   "source": [
    "similar_posts_list.head(1)"
   ]
  },
  {
   "cell_type": "markdown",
   "metadata": {},
   "source": [
    "#### ...Create function"
   ]
  },
  {
   "cell_type": "code",
   "execution_count": 36,
   "metadata": {},
   "outputs": [],
   "source": [
    "def similar_posts(df, id):\n",
    "    distance_measure = pairwise_distances(doc_topic[4].reshape(1,-1),doc_topic,metric='cosine').argsort()\n",
    "    post_ids = list(distance_measure[0][0:5])\n",
    "    similar_posts_list = df.loc[post_ids]\n",
    "    return similar_posts_list"
   ]
  },
  {
   "cell_type": "code",
   "execution_count": 37,
   "metadata": {},
   "outputs": [
    {
     "data": {
      "text/html": [
       "<div>\n",
       "<style scoped>\n",
       "    .dataframe tbody tr th:only-of-type {\n",
       "        vertical-align: middle;\n",
       "    }\n",
       "\n",
       "    .dataframe tbody tr th {\n",
       "        vertical-align: top;\n",
       "    }\n",
       "\n",
       "    .dataframe thead th {\n",
       "        text-align: right;\n",
       "    }\n",
       "</style>\n",
       "<table border=\"1\" class=\"dataframe\">\n",
       "  <thead>\n",
       "    <tr style=\"text-align: right;\">\n",
       "      <th></th>\n",
       "      <th>post_id_container</th>\n",
       "      <th>post_text</th>\n",
       "      <th>post_time</th>\n",
       "      <th>post_author</th>\n",
       "      <th>original_post_id_container</th>\n",
       "      <th>topic_title</th>\n",
       "      <th>post_hour_min</th>\n",
       "      <th>post_date</th>\n",
       "      <th>dow</th>\n",
       "      <th>week</th>\n",
       "      <th>week_alt</th>\n",
       "      <th>month</th>\n",
       "      <th>year2</th>\n",
       "      <th>Topic_Count</th>\n",
       "      <th>Topic_Name_or_Other</th>\n",
       "      <th>combined_time</th>\n",
       "      <th>post_text_original</th>\n",
       "      <th>service_connected</th>\n",
       "      <th>cp_exam</th>\n",
       "      <th>effective_date</th>\n",
       "      <th>service_connection</th>\n",
       "      <th>medical_record</th>\n",
       "      <th>coronaviruspandemic_vaccine</th>\n",
       "      <th>mental_health</th>\n",
       "      <th>good_luck</th>\n",
       "      <th>active_duty</th>\n",
       "      <th>sleep_apnea</th>\n",
       "      <th>rating_decision</th>\n",
       "      <th>hearing_loss</th>\n",
       "      <th>decision_letter</th>\n",
       "      <th>aid_attendance</th>\n",
       "      <th>medical_evidence</th>\n",
       "      <th>supplemental_claim</th>\n",
       "      <th>new_claim</th>\n",
       "      <th>caregiver_program</th>\n",
       "      <th>file_claim</th>\n",
       "      <th>gon_na</th>\n",
       "      <th>Covid_Docs</th>\n",
       "      <th>Disability_and_Appeals_Docs</th>\n",
       "      <th>Mental_Health_Docs</th>\n",
       "      <th>Aid_and_Attendance_Docs</th>\n",
       "      <th>Sleep_Docs</th>\n",
       "      <th>City_Docs</th>\n",
       "      <th>Waiting_Docs</th>\n",
       "      <th>College_Kids_Docs</th>\n",
       "      <th>Cold_Weather_Docs</th>\n",
       "      <th>Cancer_and_Disease_Docs</th>\n",
       "      <th>top_topic</th>\n",
       "      <th>Top Topic</th>\n",
       "      <th>Top Topic - Covid</th>\n",
       "    </tr>\n",
       "  </thead>\n",
       "  <tbody>\n",
       "    <tr>\n",
       "      <th>4</th>\n",
       "      <td>post_content1418699</td>\n",
       "      <td>did he review your military medical_records and post service medical_records</td>\n",
       "      <td>7:43 PM - Sep 04, 2019</td>\n",
       "      <td>[\"POST_AUTHOR\", \"EKco22\"]</td>\n",
       "      <td>post_content1511221</td>\n",
       "      <td>Legacy Appeals; Actual number of days from Appeal Certification</td>\n",
       "      <td>19:43:00</td>\n",
       "      <td>2019-09-04</td>\n",
       "      <td>2</td>\n",
       "      <td>2019-09-02/2019-09-08</td>\n",
       "      <td>2019-w36</td>\n",
       "      <td>2019-09</td>\n",
       "      <td>2019</td>\n",
       "      <td>306</td>\n",
       "      <td>Legacy Appeals; Actual number of days from Appeal Certification</td>\n",
       "      <td>2019-09-04 19:43:00</td>\n",
       "      <td>Did he review your military medical records and post service medical records?</td>\n",
       "      <td>0</td>\n",
       "      <td>0</td>\n",
       "      <td>0</td>\n",
       "      <td>0</td>\n",
       "      <td>1</td>\n",
       "      <td>0</td>\n",
       "      <td>0</td>\n",
       "      <td>0</td>\n",
       "      <td>0</td>\n",
       "      <td>0</td>\n",
       "      <td>0</td>\n",
       "      <td>0</td>\n",
       "      <td>0</td>\n",
       "      <td>0</td>\n",
       "      <td>0</td>\n",
       "      <td>0</td>\n",
       "      <td>0</td>\n",
       "      <td>0</td>\n",
       "      <td>0</td>\n",
       "      <td>0</td>\n",
       "      <td>0.0000010000</td>\n",
       "      <td>0.0000958201</td>\n",
       "      <td>0.0000365771</td>\n",
       "      <td>0.0000108224</td>\n",
       "      <td>0.0000010000</td>\n",
       "      <td>0.0009353297</td>\n",
       "      <td>0.0005996073</td>\n",
       "      <td>0.0006265097</td>\n",
       "      <td>0.0005726270</td>\n",
       "      <td>0.0009576043</td>\n",
       "      <td>9</td>\n",
       "      <td>Cancer and Disease</td>\n",
       "      <td>Other</td>\n",
       "    </tr>\n",
       "    <tr>\n",
       "      <th>2215</th>\n",
       "      <td>post_content1503310</td>\n",
       "      <td>do your service medical_records show treatment for athletes feet how long have you been out from active military service</td>\n",
       "      <td>4:14 PM - Jan 14, 2021</td>\n",
       "      <td>[\"POST_AUTHOR\", \"USMCgruntrvn\"]</td>\n",
       "      <td>post_content1503149</td>\n",
       "      <td>VA Eval Form for Athlete's Foot</td>\n",
       "      <td>16:14:00</td>\n",
       "      <td>2021-01-14</td>\n",
       "      <td>3</td>\n",
       "      <td>2021-01-11/2021-01-17</td>\n",
       "      <td>2021-w2</td>\n",
       "      <td>2021-01</td>\n",
       "      <td>2021</td>\n",
       "      <td>6</td>\n",
       "      <td>Other</td>\n",
       "      <td>2021-01-14 16:14:00</td>\n",
       "      <td>Do your Service Medical Records show treatment for Athletes Feet? How long have you been out from active military service?</td>\n",
       "      <td>0</td>\n",
       "      <td>0</td>\n",
       "      <td>0</td>\n",
       "      <td>0</td>\n",
       "      <td>1</td>\n",
       "      <td>0</td>\n",
       "      <td>0</td>\n",
       "      <td>0</td>\n",
       "      <td>0</td>\n",
       "      <td>0</td>\n",
       "      <td>0</td>\n",
       "      <td>0</td>\n",
       "      <td>0</td>\n",
       "      <td>0</td>\n",
       "      <td>0</td>\n",
       "      <td>0</td>\n",
       "      <td>0</td>\n",
       "      <td>0</td>\n",
       "      <td>0</td>\n",
       "      <td>0</td>\n",
       "      <td>0.0000010000</td>\n",
       "      <td>0.0000041268</td>\n",
       "      <td>0.0000816745</td>\n",
       "      <td>0.0000108235</td>\n",
       "      <td>0.0000010000</td>\n",
       "      <td>0.0009254017</td>\n",
       "      <td>0.0051637921</td>\n",
       "      <td>0.0006290800</td>\n",
       "      <td>0.0005697683</td>\n",
       "      <td>0.0637882711</td>\n",
       "      <td>9</td>\n",
       "      <td>Cancer and Disease</td>\n",
       "      <td>Other</td>\n",
       "    </tr>\n",
       "    <tr>\n",
       "      <th>6558</th>\n",
       "      <td>post_content1510397</td>\n",
       "      <td>there are many things that can cause this  it should be diagnosed before discarding the idea that it could be service related</td>\n",
       "      <td>6:48 AM - Mar 08, 2021</td>\n",
       "      <td>[\"POST_AUTHOR\", \"Charlie8d\"]</td>\n",
       "      <td>post_content1510334</td>\n",
       "      <td>neuropathy of feet</td>\n",
       "      <td>06:48:00</td>\n",
       "      <td>2021-03-08</td>\n",
       "      <td>0</td>\n",
       "      <td>2021-03-08/2021-03-14</td>\n",
       "      <td>2021-w10</td>\n",
       "      <td>2021-03</td>\n",
       "      <td>2021</td>\n",
       "      <td>20</td>\n",
       "      <td>Other</td>\n",
       "      <td>2021-03-08 06:48:00</td>\n",
       "      <td>There are many things that can cause this &amp; it should be diagnosed before discarding the idea that it could be service related.</td>\n",
       "      <td>0</td>\n",
       "      <td>0</td>\n",
       "      <td>0</td>\n",
       "      <td>0</td>\n",
       "      <td>0</td>\n",
       "      <td>0</td>\n",
       "      <td>0</td>\n",
       "      <td>0</td>\n",
       "      <td>0</td>\n",
       "      <td>0</td>\n",
       "      <td>0</td>\n",
       "      <td>0</td>\n",
       "      <td>0</td>\n",
       "      <td>0</td>\n",
       "      <td>0</td>\n",
       "      <td>0</td>\n",
       "      <td>0</td>\n",
       "      <td>0</td>\n",
       "      <td>0</td>\n",
       "      <td>0</td>\n",
       "      <td>0.0000010000</td>\n",
       "      <td>0.0000010000</td>\n",
       "      <td>0.0009729693</td>\n",
       "      <td>0.0000108355</td>\n",
       "      <td>0.0000010000</td>\n",
       "      <td>0.0009380784</td>\n",
       "      <td>0.0024098002</td>\n",
       "      <td>0.0000051086</td>\n",
       "      <td>0.0005725320</td>\n",
       "      <td>0.0074294817</td>\n",
       "      <td>9</td>\n",
       "      <td>Cancer and Disease</td>\n",
       "      <td>Other</td>\n",
       "    </tr>\n",
       "    <tr>\n",
       "      <th>6599</th>\n",
       "      <td>post_content1510455</td>\n",
       "      <td>i forgot to welcome you to the forum so welcome and thank you for your service</td>\n",
       "      <td>2:09 PM - Mar 08, 2021</td>\n",
       "      <td>[\"POST_AUTHOR\", \"JNoxon\"]</td>\n",
       "      <td>post_content1510449</td>\n",
       "      <td>VA Disability rating prior to decision being made</td>\n",
       "      <td>14:09:00</td>\n",
       "      <td>2021-03-08</td>\n",
       "      <td>0</td>\n",
       "      <td>2021-03-08/2021-03-14</td>\n",
       "      <td>2021-w10</td>\n",
       "      <td>2021-03</td>\n",
       "      <td>2021</td>\n",
       "      <td>8</td>\n",
       "      <td>Other</td>\n",
       "      <td>2021-03-08 14:09:00</td>\n",
       "      <td>I forgot to welcome you to the forum! So welcome and thank you for your service!</td>\n",
       "      <td>0</td>\n",
       "      <td>0</td>\n",
       "      <td>0</td>\n",
       "      <td>0</td>\n",
       "      <td>0</td>\n",
       "      <td>0</td>\n",
       "      <td>0</td>\n",
       "      <td>0</td>\n",
       "      <td>0</td>\n",
       "      <td>0</td>\n",
       "      <td>0</td>\n",
       "      <td>0</td>\n",
       "      <td>0</td>\n",
       "      <td>0</td>\n",
       "      <td>0</td>\n",
       "      <td>0</td>\n",
       "      <td>0</td>\n",
       "      <td>0</td>\n",
       "      <td>0</td>\n",
       "      <td>0</td>\n",
       "      <td>0.0000010000</td>\n",
       "      <td>0.0000010000</td>\n",
       "      <td>0.0000010000</td>\n",
       "      <td>0.0000110822</td>\n",
       "      <td>0.0000010000</td>\n",
       "      <td>0.0009363238</td>\n",
       "      <td>0.0021889677</td>\n",
       "      <td>0.0006263334</td>\n",
       "      <td>0.0005724206</td>\n",
       "      <td>0.0102655947</td>\n",
       "      <td>9</td>\n",
       "      <td>Cancer and Disease</td>\n",
       "      <td>Other</td>\n",
       "    </tr>\n",
       "    <tr>\n",
       "      <th>5894</th>\n",
       "      <td>post_content1509556</td>\n",
       "      <td>there is no specific requirement that you have a dd  however there must be some official verification of your service  as brovet requested please provide some details on your service and your disabling conditions that you believe to be due to that service cruiser</td>\n",
       "      <td>7:48 AM - Mar 02, 2021</td>\n",
       "      <td>[\"POST_AUTHOR\", \"Cruiser\"]</td>\n",
       "      <td>post_content1509524</td>\n",
       "      <td>Denial of VA claim</td>\n",
       "      <td>07:48:00</td>\n",
       "      <td>2021-03-02</td>\n",
       "      <td>1</td>\n",
       "      <td>2021-03-01/2021-03-07</td>\n",
       "      <td>2021-w9</td>\n",
       "      <td>2021-03</td>\n",
       "      <td>2021</td>\n",
       "      <td>11</td>\n",
       "      <td>Other</td>\n",
       "      <td>2021-03-02 07:48:00</td>\n",
       "      <td>There is no specific requirement that you have a DD 214; however, there must be some official verification of your service.  As BROVET requested, please provide some details on your service and your disabling conditions that you believe to be due to that service. Cruiser</td>\n",
       "      <td>0</td>\n",
       "      <td>0</td>\n",
       "      <td>0</td>\n",
       "      <td>0</td>\n",
       "      <td>0</td>\n",
       "      <td>0</td>\n",
       "      <td>0</td>\n",
       "      <td>0</td>\n",
       "      <td>0</td>\n",
       "      <td>0</td>\n",
       "      <td>0</td>\n",
       "      <td>0</td>\n",
       "      <td>0</td>\n",
       "      <td>0</td>\n",
       "      <td>0</td>\n",
       "      <td>0</td>\n",
       "      <td>0</td>\n",
       "      <td>0</td>\n",
       "      <td>0</td>\n",
       "      <td>0</td>\n",
       "      <td>0.0000010000</td>\n",
       "      <td>0.9999990000</td>\n",
       "      <td>0.0000058334</td>\n",
       "      <td>0.0000107234</td>\n",
       "      <td>0.0000569880</td>\n",
       "      <td>0.0009354844</td>\n",
       "      <td>0.0006009014</td>\n",
       "      <td>0.0006283567</td>\n",
       "      <td>0.0005729379</td>\n",
       "      <td>0.0010089558</td>\n",
       "      <td>1</td>\n",
       "      <td>Disability and Appeals</td>\n",
       "      <td>Other</td>\n",
       "    </tr>\n",
       "  </tbody>\n",
       "</table>\n",
       "</div>"
      ],
      "text/plain": [
       "        post_id_container  \\\n",
       "4     post_content1418699   \n",
       "2215  post_content1503310   \n",
       "6558  post_content1510397   \n",
       "6599  post_content1510455   \n",
       "5894  post_content1509556   \n",
       "\n",
       "                                                                                                                                                                                                                                                                    post_text  \\\n",
       "4                                                                                                                                                                                                did he review your military medical_records and post service medical_records   \n",
       "2215                                                                                                                                                 do your service medical_records show treatment for athletes feet how long have you been out from active military service   \n",
       "6558                                                                                                                                            there are many things that can cause this  it should be diagnosed before discarding the idea that it could be service related   \n",
       "6599                                                                                                                                                                                           i forgot to welcome you to the forum so welcome and thank you for your service   \n",
       "5894  there is no specific requirement that you have a dd  however there must be some official verification of your service  as brovet requested please provide some details on your service and your disabling conditions that you believe to be due to that service cruiser   \n",
       "\n",
       "                   post_time                      post_author  \\\n",
       "4     7:43 PM - Sep 04, 2019        [\"POST_AUTHOR\", \"EKco22\"]   \n",
       "2215  4:14 PM - Jan 14, 2021  [\"POST_AUTHOR\", \"USMCgruntrvn\"]   \n",
       "6558  6:48 AM - Mar 08, 2021     [\"POST_AUTHOR\", \"Charlie8d\"]   \n",
       "6599  2:09 PM - Mar 08, 2021        [\"POST_AUTHOR\", \"JNoxon\"]   \n",
       "5894  7:48 AM - Mar 02, 2021       [\"POST_AUTHOR\", \"Cruiser\"]   \n",
       "\n",
       "     original_post_id_container  \\\n",
       "4           post_content1511221   \n",
       "2215        post_content1503149   \n",
       "6558        post_content1510334   \n",
       "6599        post_content1510449   \n",
       "5894        post_content1509524   \n",
       "\n",
       "                                                          topic_title  \\\n",
       "4     Legacy Appeals; Actual number of days from Appeal Certification   \n",
       "2215                                  VA Eval Form for Athlete's Foot   \n",
       "6558                                               neuropathy of feet   \n",
       "6599                VA Disability rating prior to decision being made   \n",
       "5894                                               Denial of VA claim   \n",
       "\n",
       "     post_hour_min  post_date  dow                   week  week_alt    month  \\\n",
       "4         19:43:00 2019-09-04    2  2019-09-02/2019-09-08  2019-w36  2019-09   \n",
       "2215      16:14:00 2021-01-14    3  2021-01-11/2021-01-17   2021-w2  2021-01   \n",
       "6558      06:48:00 2021-03-08    0  2021-03-08/2021-03-14  2021-w10  2021-03   \n",
       "6599      14:09:00 2021-03-08    0  2021-03-08/2021-03-14  2021-w10  2021-03   \n",
       "5894      07:48:00 2021-03-02    1  2021-03-01/2021-03-07   2021-w9  2021-03   \n",
       "\n",
       "     year2  Topic_Count  \\\n",
       "4     2019          306   \n",
       "2215  2021            6   \n",
       "6558  2021           20   \n",
       "6599  2021            8   \n",
       "5894  2021           11   \n",
       "\n",
       "                                                  Topic_Name_or_Other  \\\n",
       "4     Legacy Appeals; Actual number of days from Appeal Certification   \n",
       "2215                                                            Other   \n",
       "6558                                                            Other   \n",
       "6599                                                            Other   \n",
       "5894                                                            Other   \n",
       "\n",
       "           combined_time  \\\n",
       "4    2019-09-04 19:43:00   \n",
       "2215 2021-01-14 16:14:00   \n",
       "6558 2021-03-08 06:48:00   \n",
       "6599 2021-03-08 14:09:00   \n",
       "5894 2021-03-02 07:48:00   \n",
       "\n",
       "                                                                                                                                                                                                                                                                   post_text_original  \\\n",
       "4                                                                                                                                                                                                       Did he review your military medical records and post service medical records?   \n",
       "2215                                                                                                                                                       Do your Service Medical Records show treatment for Athletes Feet? How long have you been out from active military service?   \n",
       "6558                                                                                                                                                  There are many things that can cause this & it should be diagnosed before discarding the idea that it could be service related.   \n",
       "6599                                                                                                                                                                                                 I forgot to welcome you to the forum! So welcome and thank you for your service!   \n",
       "5894  There is no specific requirement that you have a DD 214; however, there must be some official verification of your service.  As BROVET requested, please provide some details on your service and your disabling conditions that you believe to be due to that service. Cruiser   \n",
       "\n",
       "      service_connected  cp_exam  effective_date  service_connection  \\\n",
       "4                     0        0               0                   0   \n",
       "2215                  0        0               0                   0   \n",
       "6558                  0        0               0                   0   \n",
       "6599                  0        0               0                   0   \n",
       "5894                  0        0               0                   0   \n",
       "\n",
       "      medical_record  coronaviruspandemic_vaccine  mental_health  good_luck  \\\n",
       "4                  1                            0              0          0   \n",
       "2215               1                            0              0          0   \n",
       "6558               0                            0              0          0   \n",
       "6599               0                            0              0          0   \n",
       "5894               0                            0              0          0   \n",
       "\n",
       "      active_duty  sleep_apnea  rating_decision  hearing_loss  \\\n",
       "4               0            0                0             0   \n",
       "2215            0            0                0             0   \n",
       "6558            0            0                0             0   \n",
       "6599            0            0                0             0   \n",
       "5894            0            0                0             0   \n",
       "\n",
       "      decision_letter  aid_attendance  medical_evidence  supplemental_claim  \\\n",
       "4                   0               0                 0                   0   \n",
       "2215                0               0                 0                   0   \n",
       "6558                0               0                 0                   0   \n",
       "6599                0               0                 0                   0   \n",
       "5894                0               0                 0                   0   \n",
       "\n",
       "      new_claim  caregiver_program  file_claim  gon_na   Covid_Docs  \\\n",
       "4             0                  0           0       0 0.0000010000   \n",
       "2215          0                  0           0       0 0.0000010000   \n",
       "6558          0                  0           0       0 0.0000010000   \n",
       "6599          0                  0           0       0 0.0000010000   \n",
       "5894          0                  0           0       0 0.0000010000   \n",
       "\n",
       "      Disability_and_Appeals_Docs  Mental_Health_Docs  \\\n",
       "4                    0.0000958201        0.0000365771   \n",
       "2215                 0.0000041268        0.0000816745   \n",
       "6558                 0.0000010000        0.0009729693   \n",
       "6599                 0.0000010000        0.0000010000   \n",
       "5894                 0.9999990000        0.0000058334   \n",
       "\n",
       "      Aid_and_Attendance_Docs   Sleep_Docs    City_Docs  Waiting_Docs  \\\n",
       "4                0.0000108224 0.0000010000 0.0009353297  0.0005996073   \n",
       "2215             0.0000108235 0.0000010000 0.0009254017  0.0051637921   \n",
       "6558             0.0000108355 0.0000010000 0.0009380784  0.0024098002   \n",
       "6599             0.0000110822 0.0000010000 0.0009363238  0.0021889677   \n",
       "5894             0.0000107234 0.0000569880 0.0009354844  0.0006009014   \n",
       "\n",
       "      College_Kids_Docs  Cold_Weather_Docs  Cancer_and_Disease_Docs  \\\n",
       "4          0.0006265097       0.0005726270             0.0009576043   \n",
       "2215       0.0006290800       0.0005697683             0.0637882711   \n",
       "6558       0.0000051086       0.0005725320             0.0074294817   \n",
       "6599       0.0006263334       0.0005724206             0.0102655947   \n",
       "5894       0.0006283567       0.0005729379             0.0010089558   \n",
       "\n",
       "      top_topic               Top Topic Top Topic - Covid  \n",
       "4             9      Cancer and Disease             Other  \n",
       "2215          9      Cancer and Disease             Other  \n",
       "6558          9      Cancer and Disease             Other  \n",
       "6599          9      Cancer and Disease             Other  \n",
       "5894          1  Disability and Appeals             Other  "
      ]
     },
     "execution_count": 37,
     "metadata": {},
     "output_type": "execute_result"
    }
   ],
   "source": [
    "similar_posts(df_zipped_post3,4)"
   ]
  },
  {
   "cell_type": "markdown",
   "metadata": {},
   "source": [
    "## Create Function for Testing New, Unseen Text\n",
    "...starting with test setup"
   ]
  },
  {
   "cell_type": "code",
   "execution_count": 42,
   "metadata": {},
   "outputs": [],
   "source": [
    "t = ['diabetes']"
   ]
  },
  {
   "cell_type": "code",
   "execution_count": 43,
   "metadata": {},
   "outputs": [],
   "source": [
    "vt = vectorizer.transform(t)"
   ]
  },
  {
   "cell_type": "code",
   "execution_count": 44,
   "metadata": {},
   "outputs": [],
   "source": [
    "tt = nmf_model.transform(vt)"
   ]
  },
  {
   "cell_type": "code",
   "execution_count": 45,
   "metadata": {},
   "outputs": [
    {
     "data": {
      "text/plain": [
       "array([[5491, 1600, 1184, ..., 1245, 3762, 1705]])"
      ]
     },
     "execution_count": 45,
     "metadata": {},
     "output_type": "execute_result"
    }
   ],
   "source": [
    "pairwise_distances(tt,doc_topic,metric='cosine').argsort()"
   ]
  },
  {
   "cell_type": "code",
   "execution_count": 46,
   "metadata": {},
   "outputs": [
    {
     "data": {
      "text/plain": [
       "array([[5491, 1600, 1184, ..., 1245, 3762, 1705]])"
      ]
     },
     "execution_count": 46,
     "metadata": {},
     "output_type": "execute_result"
    }
   ],
   "source": [
    "pairwise_distances(tt.reshape(1,-1),doc_topic,metric='cosine').argsort()"
   ]
  },
  {
   "cell_type": "code",
   "execution_count": 47,
   "metadata": {},
   "outputs": [],
   "source": [
    "distance_measure = pairwise_distances(tt.reshape(1,-1),doc_topic,metric='cosine').argsort()"
   ]
  },
  {
   "cell_type": "code",
   "execution_count": 48,
   "metadata": {},
   "outputs": [],
   "source": [
    "post_ids = list(distance_measure[0][0:20])"
   ]
  },
  {
   "cell_type": "code",
   "execution_count": 49,
   "metadata": {},
   "outputs": [],
   "source": [
    "similar_posts_list = df_zipped_post3.loc[post_ids]"
   ]
  },
  {
   "cell_type": "code",
   "execution_count": 50,
   "metadata": {},
   "outputs": [
    {
     "data": {
      "text/html": [
       "<div>\n",
       "<style scoped>\n",
       "    .dataframe tbody tr th:only-of-type {\n",
       "        vertical-align: middle;\n",
       "    }\n",
       "\n",
       "    .dataframe tbody tr th {\n",
       "        vertical-align: top;\n",
       "    }\n",
       "\n",
       "    .dataframe thead th {\n",
       "        text-align: right;\n",
       "    }\n",
       "</style>\n",
       "<table border=\"1\" class=\"dataframe\">\n",
       "  <thead>\n",
       "    <tr style=\"text-align: right;\">\n",
       "      <th></th>\n",
       "      <th>topic_title</th>\n",
       "      <th>post_text_original</th>\n",
       "    </tr>\n",
       "  </thead>\n",
       "  <tbody>\n",
       "    <tr>\n",
       "      <th>5491</th>\n",
       "      <td>Hypothryoidism and Agent Orange</td>\n",
       "      <td>livelsberger wrote:  4:21 PM - Feb 21Years ago at least 35, I put in a claim for hypothyroidism caused by agent orange it was denied. Now since it is on the list do I file as a new claim or ask for a DRO review? Thanks Gents. My father in-law just got service connected for agent orange, but I don't see hypothyroidism on the list?  I'm looking at this list.  *Edited by EKco22 to remove law firm website*</td>\n",
       "    </tr>\n",
       "  </tbody>\n",
       "</table>\n",
       "</div>"
      ],
      "text/plain": [
       "                          topic_title  \\\n",
       "5491  Hypothryoidism and Agent Orange   \n",
       "\n",
       "                                                                                                                                                                                                                                                                                                                                                                                                         post_text_original  \n",
       "5491  livelsberger wrote:  4:21 PM - Feb 21Years ago at least 35, I put in a claim for hypothyroidism caused by agent orange it was denied. Now since it is on the list do I file as a new claim or ask for a DRO review? Thanks Gents. My father in-law just got service connected for agent orange, but I don't see hypothyroidism on the list?  I'm looking at this list.  *Edited by EKco22 to remove law firm website*  "
      ]
     },
     "execution_count": 50,
     "metadata": {},
     "output_type": "execute_result"
    }
   ],
   "source": [
    "similar_posts_list[['topic_title','post_text_original']].head(1)"
   ]
  },
  {
   "cell_type": "markdown",
   "metadata": {},
   "source": [
    "#### ...and now the function"
   ]
  },
  {
   "cell_type": "code",
   "execution_count": 39,
   "metadata": {},
   "outputs": [],
   "source": [
    "def get_similar(df, user_text):\n",
    "    t = [user_text]\n",
    "    vt = vectorizer.transform(t)\n",
    "    tt = nmf_model.transform(vt)\n",
    "    distance_measure = pairwise_distances(tt.reshape(1,-1),doc_topic,metric='cosine').argsort()\n",
    "    post_ids = list(distance_measure[0][0:20])\n",
    "    similar_posts = df.loc[post_ids]\n",
    "    return similar_posts[['topic_title','post_text_original']]"
   ]
  },
  {
   "cell_type": "code",
   "execution_count": 51,
   "metadata": {},
   "outputs": [
    {
     "data": {
      "text/html": [
       "<div>\n",
       "<style scoped>\n",
       "    .dataframe tbody tr th:only-of-type {\n",
       "        vertical-align: middle;\n",
       "    }\n",
       "\n",
       "    .dataframe tbody tr th {\n",
       "        vertical-align: top;\n",
       "    }\n",
       "\n",
       "    .dataframe thead th {\n",
       "        text-align: right;\n",
       "    }\n",
       "</style>\n",
       "<table border=\"1\" class=\"dataframe\">\n",
       "  <thead>\n",
       "    <tr style=\"text-align: right;\">\n",
       "      <th></th>\n",
       "      <th>topic_title</th>\n",
       "      <th>post_text_original</th>\n",
       "    </tr>\n",
       "  </thead>\n",
       "  <tbody>\n",
       "    <tr>\n",
       "      <th>5491</th>\n",
       "      <td>Hypothryoidism and Agent Orange</td>\n",
       "      <td>livelsberger wrote:  4:21 PM - Feb 21Years ago at least 35, I put in a claim for hypothyroidism caused by agent orange it was denied. Now since it is on the list do I file as a new claim or ask for a DRO review? Thanks Gents. My father in-law just got service connected for agent orange, but I don't see hypothyroidism on the list?  I'm looking at this list.  *Edited by EKco22 to remove law firm website*</td>\n",
       "    </tr>\n",
       "    <tr>\n",
       "      <th>1600</th>\n",
       "      <td>Quesstions Re Filing Diabetes Clailm</td>\n",
       "      <td>I got  message from my doctor and am diagnosed as a diabetic.  I have to have an appointment with him to discuss mediation or trying to control things by diet and exercise.  After we decide on a course of treatment I will file a claim.</td>\n",
       "    </tr>\n",
       "    <tr>\n",
       "      <th>1184</th>\n",
       "      <td>Chernobyl Illnesss From West Germany</td>\n",
       "      <td>FarmerInTheDell wrote:  Aug 21, 2020Hi Miguel, I lost the case. They said that Hypothyroidism is a common illness and not enough evidence to suggest Chernobyl.  I disagree. I think it’s what triggered my hypothyroidism and my autoimmune disease!  You could go on Google  , and start with Chernobyl radiation poisoning cloud over Germany and start your search the Chernobyl Affects ,Chernobyl  areas affected by radiation ,and Military vehicles and aircraft exhaust exposure, Chernobyl  acciddent and its consequences, public health (fuels petroleum, oil,lubricant how the Chernobyl  cloud  affected cognitive abilities in Germany, a map of how far was your company from Chernobyl, a map of the border and your company ,Google the distance of the town to Chernobyl how many miles, Chernobyl  Hypothyroidism , Chernobyl Autoimmune disease, Chernobyl radiation zone area the was affected  , ▪︎▪︎the Chernobyl accident - an epidemiological perspective this the part the talks about THYRIOD CANCER FORM CHERNOBYL. and watch also YouTube on Chernobyl radiation. then re- file your claim and submit again. Do give up all on this website will give you a feed back .remember  Chernobyl radius zone over Germany and chernobyl dates also all are important.</td>\n",
       "    </tr>\n",
       "    <tr>\n",
       "      <th>1012</th>\n",
       "      <td>Legacy Appeals; Actual number of days from Appeal Certification</td>\n",
       "      <td>Just my $.02 I've been in the VA system for a decade.  Had an incredibly complicated TBI claim.  I've been a patient in the VA Poly Trauma unit for 8 years.  Every one of my Dr's had notes detailing the tests, treatment, and diagnosis.  These items were the basis of a successful claim. .eventually, from the VBA.  I never had a Nexus letter written by one of my Dr's.  I'm not exactly sure what additional value they would have provided when everything was in their notes. . .again.  My $.02. .</td>\n",
       "    </tr>\n",
       "  </tbody>\n",
       "</table>\n",
       "</div>"
      ],
      "text/plain": [
       "                                                          topic_title  \\\n",
       "5491                                  Hypothryoidism and Agent Orange   \n",
       "1600                             Quesstions Re Filing Diabetes Clailm   \n",
       "1184                             Chernobyl Illnesss From West Germany   \n",
       "1012  Legacy Appeals; Actual number of days from Appeal Certification   \n",
       "\n",
       "                                                                                                                                                                                                                                                                                                                                                                                                                                                                                                                                                                                                                                                                                                                                                                                                                                                                                                                                                                                                                                                                                                                                                                                                                                                                                 post_text_original  \n",
       "5491                                                                                                                                                                                                                                                                                                                                                                                                                                                                                                                                                                                                                                                                                                                                                                                                                                                                          livelsberger wrote:  4:21 PM - Feb 21Years ago at least 35, I put in a claim for hypothyroidism caused by agent orange it was denied. Now since it is on the list do I file as a new claim or ask for a DRO review? Thanks Gents. My father in-law just got service connected for agent orange, but I don't see hypothyroidism on the list?  I'm looking at this list.  *Edited by EKco22 to remove law firm website*  \n",
       "1600                                                                                                                                                                                                                                                                                                                                                                                                                                                                                                                                                                                                                                                                                                                                                                                                                                                                                                                                                                                                                                                    I got  message from my doctor and am diagnosed as a diabetic.  I have to have an appointment with him to discuss mediation or trying to control things by diet and exercise.  After we decide on a course of treatment I will file a claim.  \n",
       "1184  FarmerInTheDell wrote:  Aug 21, 2020Hi Miguel, I lost the case. They said that Hypothyroidism is a common illness and not enough evidence to suggest Chernobyl.  I disagree. I think it’s what triggered my hypothyroidism and my autoimmune disease!  You could go on Google  , and start with Chernobyl radiation poisoning cloud over Germany and start your search the Chernobyl Affects ,Chernobyl  areas affected by radiation ,and Military vehicles and aircraft exhaust exposure, Chernobyl  acciddent and its consequences, public health (fuels petroleum, oil,lubricant how the Chernobyl  cloud  affected cognitive abilities in Germany, a map of how far was your company from Chernobyl, a map of the border and your company ,Google the distance of the town to Chernobyl how many miles, Chernobyl  Hypothyroidism , Chernobyl Autoimmune disease, Chernobyl radiation zone area the was affected  , ▪︎▪︎the Chernobyl accident - an epidemiological perspective this the part the talks about THYRIOD CANCER FORM CHERNOBYL. and watch also YouTube on Chernobyl radiation. then re- file your claim and submit again. Do give up all on this website will give you a feed back .remember  Chernobyl radius zone over Germany and chernobyl dates also all are important.  \n",
       "1012                                                                                                                                                                                                                                                                                                                                                                                                                                                                                                                                                                                                                                                                                                                                                                                Just my $.02 I've been in the VA system for a decade.  Had an incredibly complicated TBI claim.  I've been a patient in the VA Poly Trauma unit for 8 years.  Every one of my Dr's had notes detailing the tests, treatment, and diagnosis.  These items were the basis of a successful claim. .eventually, from the VBA.  I never had a Nexus letter written by one of my Dr's.  I'm not exactly sure what additional value they would have provided when everything was in their notes. . .again.  My $.02. .  "
      ]
     },
     "execution_count": 51,
     "metadata": {},
     "output_type": "execute_result"
    }
   ],
   "source": [
    "get_similar(df_zipped_post3,'diabetes')[:4]"
   ]
  }
 ],
 "metadata": {
  "kernelspec": {
   "display_name": "Python 3",
   "language": "python",
   "name": "python3"
  },
  "language_info": {
   "codemirror_mode": {
    "name": "ipython",
    "version": 3
   },
   "file_extension": ".py",
   "mimetype": "text/x-python",
   "name": "python",
   "nbconvert_exporter": "python",
   "pygments_lexer": "ipython3",
   "version": "3.8.5"
  }
 },
 "nbformat": 4,
 "nbformat_minor": 4
}
